{
  "nbformat": 4,
  "nbformat_minor": 0,
  "metadata": {
    "colab": {
      "provenance": []
    },
    "kernelspec": {
      "name": "python3",
      "display_name": "Python 3"
    },
    "language_info": {
      "name": "python"
    }
  },
  "cells": [
    {
      "cell_type": "code",
      "execution_count": null,
      "metadata": {
        "id": "WE0KCPIRYRZE"
      },
      "outputs": [],
      "source": [
        "import torch"
      ]
    },
    {
      "cell_type": "markdown",
      "source": [
        "The tensor should not contain integers, when setting requires_grad = True"
      ],
      "metadata": {
        "id": "-P9BfI13Ykvo"
      }
    },
    {
      "cell_type": "code",
      "source": [
        "x = torch.tensor(10.0, requires_grad = True)"
      ],
      "metadata": {
        "id": "YG89VhhTYVdb"
      },
      "execution_count": null,
      "outputs": []
    },
    {
      "cell_type": "code",
      "source": [
        "y = x**2"
      ],
      "metadata": {
        "id": "b7cUrcgZYcU_"
      },
      "execution_count": null,
      "outputs": []
    },
    {
      "cell_type": "code",
      "source": [
        "print(x, y)"
      ],
      "metadata": {
        "colab": {
          "base_uri": "https://localhost:8080/"
        },
        "id": "zQf__lagYz9R",
        "outputId": "37c0ac5b-190d-47e3-fa91-d1363b6eeabc"
      },
      "execution_count": null,
      "outputs": [
        {
          "output_type": "stream",
          "name": "stdout",
          "text": [
            "tensor(10., requires_grad=True) tensor(100., grad_fn=<PowBackward0>)\n"
          ]
        }
      ]
    },
    {
      "cell_type": "code",
      "source": [
        "y.backward(retain_graph=True)"
      ],
      "metadata": {
        "id": "FRXpwO16Y4jW"
      },
      "execution_count": null,
      "outputs": []
    },
    {
      "cell_type": "code",
      "source": [
        "x.grad"
      ],
      "metadata": {
        "colab": {
          "base_uri": "https://localhost:8080/"
        },
        "id": "vfrfe4qia7Tm",
        "outputId": "a52bfde2-5738-4c72-c6ec-ba156805e5f2"
      },
      "execution_count": null,
      "outputs": [
        {
          "output_type": "execute_result",
          "data": {
            "text/plain": [
              "tensor(20.)"
            ]
          },
          "metadata": {},
          "execution_count": 6
        }
      ]
    },
    {
      "cell_type": "code",
      "source": [
        "z = torch.sin(y)\n",
        "z"
      ],
      "metadata": {
        "colab": {
          "base_uri": "https://localhost:8080/"
        },
        "id": "l1N-g8jZa9Jm",
        "outputId": "25f861c0-e13b-438d-cb21-73d951db2d0d"
      },
      "execution_count": null,
      "outputs": [
        {
          "output_type": "execute_result",
          "data": {
            "text/plain": [
              "tensor(-0.5064, grad_fn=<SinBackward0>)"
            ]
          },
          "metadata": {},
          "execution_count": 7
        }
      ]
    },
    {
      "cell_type": "code",
      "source": [
        "z.backward()"
      ],
      "metadata": {
        "id": "NICCjn4QbY9d"
      },
      "execution_count": null,
      "outputs": []
    },
    {
      "cell_type": "code",
      "source": [
        "x.grad"
      ],
      "metadata": {
        "colab": {
          "base_uri": "https://localhost:8080/"
        },
        "id": "AOOFvxRGbt00",
        "outputId": "bf3eba48-eba2-4f06-ca07-84465b484d2f"
      },
      "execution_count": null,
      "outputs": [
        {
          "output_type": "execute_result",
          "data": {
            "text/plain": [
              "tensor(37.2464)"
            ]
          },
          "metadata": {},
          "execution_count": 9
        }
      ]
    },
    {
      "cell_type": "markdown",
      "source": [
        "# Making a Perceptron"
      ],
      "metadata": {
        "id": "IbezDf-hcowa"
      }
    },
    {
      "cell_type": "markdown",
      "source": [
        "## Gradient using direct formula"
      ],
      "metadata": {
        "id": "KKQtEUU07UVa"
      }
    },
    {
      "cell_type": "code",
      "source": [
        "x = torch.tensor(7.6)\n",
        "y = torch.tensor(10.0)\n",
        "\n",
        "w = torch.tensor(1.0)\n",
        "b = torch.tensor(2.0)"
      ],
      "metadata": {
        "id": "J0dkiziz5-jw"
      },
      "execution_count": null,
      "outputs": []
    },
    {
      "cell_type": "markdown",
      "source": [
        "Forward prop"
      ],
      "metadata": {
        "id": "eFY-96gy53ok"
      }
    },
    {
      "cell_type": "code",
      "source": [
        "def binary_cross_entropy(prediction, truth):\n",
        "  epsilon = 1e-7\n",
        "  prediction = torch.clamp(prediction, epsilon, 1-epsilon)\n",
        "  return -truth*torch.log(prediction) - (1-truth)*torch.log(1-prediction)"
      ],
      "metadata": {
        "id": "en6Kinh-6Qqa"
      },
      "execution_count": null,
      "outputs": []
    },
    {
      "cell_type": "code",
      "source": [
        "z = w * x + b\n",
        "y_pred = torch.sigmoid(z)\n",
        "\n",
        "loss = binary_cross_entropy(y_pred, y)"
      ],
      "metadata": {
        "id": "OLxHcmoscNR6"
      },
      "execution_count": null,
      "outputs": []
    },
    {
      "cell_type": "code",
      "source": [
        "loss"
      ],
      "metadata": {
        "colab": {
          "base_uri": "https://localhost:8080/"
        },
        "id": "b-swBUGH6iRI",
        "outputId": "dcbbf0c8-c9eb-4739-8a03-a75a2c998342"
      },
      "execution_count": null,
      "outputs": [
        {
          "output_type": "execute_result",
          "data": {
            "text/plain": [
              "tensor(-86.4017)"
            ]
          },
          "metadata": {},
          "execution_count": 16
        }
      ]
    },
    {
      "cell_type": "code",
      "source": [
        "dL_dw = (y_pred - y)*x\n",
        "dL_db = y_pred - y"
      ],
      "metadata": {
        "id": "ZtKsF6KG6vTl"
      },
      "execution_count": null,
      "outputs": []
    },
    {
      "cell_type": "code",
      "source": [
        "print(f\"Gradient by formula {dL_dw} {dL_db}\")"
      ],
      "metadata": {
        "colab": {
          "base_uri": "https://localhost:8080/"
        },
        "id": "VTT2-pPJ7GRJ",
        "outputId": "1e91ecdc-7261-4f90-98c3-7f00c76d0484"
      },
      "execution_count": null,
      "outputs": [
        {
          "output_type": "stream",
          "name": "stdout",
          "text": [
            "Gradient by formula -68.4005126953125 -9.000067710876465\n"
          ]
        }
      ]
    },
    {
      "cell_type": "markdown",
      "source": [
        "##Gradient using AutoGrad"
      ],
      "metadata": {
        "id": "WaH6BRPy7eOb"
      }
    },
    {
      "cell_type": "code",
      "source": [
        "x = torch.tensor(7.6)\n",
        "y = torch.tensor(10.0)\n",
        "\n",
        "w = torch.tensor(1.0, requires_grad = True)\n",
        "b = torch.tensor(2.0, requires_grad = True)"
      ],
      "metadata": {
        "id": "UBaxBxIu7ghH"
      },
      "execution_count": null,
      "outputs": []
    },
    {
      "cell_type": "code",
      "source": [
        "z = w*x + b\n",
        "z"
      ],
      "metadata": {
        "colab": {
          "base_uri": "https://localhost:8080/"
        },
        "id": "OAUW4F9d7pU7",
        "outputId": "069e8129-1ffb-49e5-ca62-4448b36bd315"
      },
      "execution_count": null,
      "outputs": [
        {
          "output_type": "execute_result",
          "data": {
            "text/plain": [
              "tensor(9.6000, grad_fn=<AddBackward0>)"
            ]
          },
          "metadata": {},
          "execution_count": 25
        }
      ]
    },
    {
      "cell_type": "code",
      "source": [
        "y_pred = torch.sigmoid(z)\n",
        "y_pred"
      ],
      "metadata": {
        "colab": {
          "base_uri": "https://localhost:8080/"
        },
        "id": "VbMo32Ke7uk6",
        "outputId": "506327d4-835d-4795-ae8a-5583c64ed5f5"
      },
      "execution_count": null,
      "outputs": [
        {
          "output_type": "execute_result",
          "data": {
            "text/plain": [
              "tensor(0.9999, grad_fn=<SigmoidBackward0>)"
            ]
          },
          "metadata": {},
          "execution_count": 26
        }
      ]
    },
    {
      "cell_type": "code",
      "source": [
        "loss = binary_cross_entropy(y_pred, y)\n",
        "loss"
      ],
      "metadata": {
        "colab": {
          "base_uri": "https://localhost:8080/"
        },
        "id": "KPrAzfzA78LT",
        "outputId": "d616090a-ba7e-448c-df6b-edd60d732f84"
      },
      "execution_count": null,
      "outputs": [
        {
          "output_type": "execute_result",
          "data": {
            "text/plain": [
              "tensor(-86.4017, grad_fn=<SubBackward0>)"
            ]
          },
          "metadata": {},
          "execution_count": 27
        }
      ]
    },
    {
      "cell_type": "code",
      "source": [
        "loss.backward()"
      ],
      "metadata": {
        "id": "n7d3ux5t8Bho"
      },
      "execution_count": null,
      "outputs": []
    },
    {
      "cell_type": "code",
      "source": [
        "print(w.grad)\n",
        "print(b.grad)"
      ],
      "metadata": {
        "colab": {
          "base_uri": "https://localhost:8080/"
        },
        "id": "SqyIJ5ut8KIB",
        "outputId": "3c7e5a4d-573f-4640-987b-d55abc46a0a3"
      },
      "execution_count": null,
      "outputs": [
        {
          "output_type": "stream",
          "name": "stdout",
          "text": [
            "tensor(-68.4005)\n",
            "tensor(-9.0001)\n"
          ]
        }
      ]
    },
    {
      "cell_type": "markdown",
      "source": [
        "# Working with vectors"
      ],
      "metadata": {
        "id": "7yrVZqh18iqz"
      }
    },
    {
      "cell_type": "code",
      "source": [
        "x = torch.tensor([2.0, 5.0, 8.0], requires_grad = True)\n",
        "x"
      ],
      "metadata": {
        "colab": {
          "base_uri": "https://localhost:8080/"
        },
        "id": "MOqisnvf8kKl",
        "outputId": "09b36f43-fede-4a97-9081-ccde3218e792"
      },
      "execution_count": null,
      "outputs": [
        {
          "output_type": "execute_result",
          "data": {
            "text/plain": [
              "tensor([2., 5., 8.], requires_grad=True)"
            ]
          },
          "metadata": {},
          "execution_count": 35
        }
      ]
    },
    {
      "cell_type": "code",
      "source": [
        "y = (x**2).sum()\n",
        "y"
      ],
      "metadata": {
        "colab": {
          "base_uri": "https://localhost:8080/"
        },
        "id": "fOSy8Enn8tO-",
        "outputId": "f2171bd0-7d29-46ae-db7a-20a90ccddd8f"
      },
      "execution_count": null,
      "outputs": [
        {
          "output_type": "execute_result",
          "data": {
            "text/plain": [
              "tensor(93., grad_fn=<SumBackward0>)"
            ]
          },
          "metadata": {},
          "execution_count": 41
        }
      ]
    },
    {
      "cell_type": "code",
      "source": [
        "y.backward()"
      ],
      "metadata": {
        "id": "qHvjqEWx87XL"
      },
      "execution_count": null,
      "outputs": []
    },
    {
      "cell_type": "code",
      "source": [
        "x.grad"
      ],
      "metadata": {
        "colab": {
          "base_uri": "https://localhost:8080/"
        },
        "id": "SMapDTTD8_J1",
        "outputId": "4e211e3e-3917-40c3-a59a-73b231af7603"
      },
      "execution_count": null,
      "outputs": [
        {
          "output_type": "execute_result",
          "data": {
            "text/plain": [
              "tensor([ 8., 20., 32.])"
            ]
          },
          "metadata": {},
          "execution_count": 43
        }
      ]
    },
    {
      "cell_type": "markdown",
      "source": [
        "#Clearing gradients"
      ],
      "metadata": {
        "id": "ubH9myEC9fbv"
      }
    },
    {
      "cell_type": "markdown",
      "source": [
        "Gradient gets accumulated if they are not cleared which is not desirable as we run multiple epochs"
      ],
      "metadata": {
        "id": "fJbGVhsX9n63"
      }
    },
    {
      "cell_type": "code",
      "source": [
        "x = torch.tensor(4.0, requires_grad = True)"
      ],
      "metadata": {
        "id": "AKwlXzmB9niA"
      },
      "execution_count": null,
      "outputs": []
    },
    {
      "cell_type": "code",
      "source": [
        "y = x**2\n",
        "y"
      ],
      "metadata": {
        "colab": {
          "base_uri": "https://localhost:8080/"
        },
        "id": "Mto4yR4V_S59",
        "outputId": "7fba5c49-7973-45c2-9540-4242be3b95b0"
      },
      "execution_count": null,
      "outputs": [
        {
          "output_type": "execute_result",
          "data": {
            "text/plain": [
              "tensor(16., grad_fn=<PowBackward0>)"
            ]
          },
          "metadata": {},
          "execution_count": 94
        }
      ]
    },
    {
      "cell_type": "code",
      "source": [
        "y.backward()"
      ],
      "metadata": {
        "id": "riJ-cj0_9zTr"
      },
      "execution_count": null,
      "outputs": []
    },
    {
      "cell_type": "code",
      "source": [
        "x.grad"
      ],
      "metadata": {
        "colab": {
          "base_uri": "https://localhost:8080/"
        },
        "id": "MjW7qA7s93UY",
        "outputId": "c908b3e8-95c8-4104-f01a-7a99c3d04fb8"
      },
      "execution_count": null,
      "outputs": [
        {
          "output_type": "execute_result",
          "data": {
            "text/plain": [
              "tensor(8.)"
            ]
          },
          "metadata": {},
          "execution_count": 96
        }
      ]
    },
    {
      "cell_type": "markdown",
      "source": [
        "We set grad = 0 in place"
      ],
      "metadata": {
        "id": "gLt7PbUP99iO"
      }
    },
    {
      "cell_type": "code",
      "source": [
        "x.grad.zero_()"
      ],
      "metadata": {
        "colab": {
          "base_uri": "https://localhost:8080/"
        },
        "id": "0MnAxFhH94UN",
        "outputId": "10f61cd7-a0ab-4bda-8da2-a217f5202e21"
      },
      "execution_count": null,
      "outputs": [
        {
          "output_type": "execute_result",
          "data": {
            "text/plain": [
              "tensor(0.)"
            ]
          },
          "metadata": {},
          "execution_count": 97
        }
      ]
    },
    {
      "cell_type": "code",
      "source": [],
      "metadata": {
        "id": "2D7U09BC_YDf"
      },
      "execution_count": null,
      "outputs": []
    }
  ]
}